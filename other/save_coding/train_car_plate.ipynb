{
 "cells": [
  {
   "cell_type": "code",
   "execution_count": 1,
   "metadata": {},
   "outputs": [],
   "source": [
    "from ultralytics import YOLO\n",
    "path = \"F:/FYP_Programe/test2/utils/\"\n",
    "import matplotlib.pyplot as plt\n",
    "\n",
    "import multiprocessing"
   ]
  },
  {
   "cell_type": "code",
   "execution_count": null,
   "metadata": {},
   "outputs": [],
   "source": [
    "def train():\n",
    "    # Load a model\n",
    "    model = YOLO(\"F:\\\\fyp_system\\\\utils\\\\model\\\\yolov8s.pt\")  # load a pretrained model (recommended for training)\n",
    "\n",
    "    # Train the model\n",
    "    results = model.train(data=\"F:\\\\FYP_save\\\\dataset\\\\car_plate_3\\\\data.yaml\", epochs=100, imgsz=640)\n",
    "    print(results)\n",
    "\n",
    "\n",
    "def val():\n",
    "    model = YOLO(\"F:\\\\fyp_system\\\\utils\\\\model\\\\car_plate_v3.pt\")\n",
    "    results = model.val(data=\"F:\\\\FYP_save\\\\dataset\\\\car_plate_3\\\\data.yaml\", imgsz=640)\n",
    "\n",
    "    # Print validation results\n",
    "    print(results)\n",
    "\n",
    "    # Visualize some of the validation metrics\n",
    "    plt.plot(results.history['mAP'], label='mAP')\n",
    "    plt.plot(results.history['precision'], label='Precision')\n",
    "    plt.plot(results.history['recall'], label='Recall')\n",
    "    plt.xlabel('Epoch')\n",
    "    plt.ylabel('Metric')\n",
    "    plt.legend()\n",
    "    plt.title('Validation Metrics')\n",
    "    plt.show()"
   ]
  },
  {
   "cell_type": "code",
   "execution_count": null,
   "metadata": {},
   "outputs": [],
   "source": [
    "if __name__ == '__main__':\n",
    "    multiprocessing.freeze_support()  # Freeze support for Windows\n",
    "    train()"
   ]
  }
 ],
 "metadata": {
  "kernelspec": {
   "display_name": "Python 3",
   "language": "python",
   "name": "python3"
  },
  "language_info": {
   "codemirror_mode": {
    "name": "ipython",
    "version": 3
   },
   "file_extension": ".py",
   "mimetype": "text/x-python",
   "name": "python",
   "nbconvert_exporter": "python",
   "pygments_lexer": "ipython3",
   "version": "3.11.3"
  }
 },
 "nbformat": 4,
 "nbformat_minor": 2
}
